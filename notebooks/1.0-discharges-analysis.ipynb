{
 "cells": [
  {
   "cell_type": "code",
   "execution_count": 2,
   "metadata": {},
   "outputs": [],
   "source": [
    "import sys\n",
    "import os\n",
    "\n",
    "project_root = os.path.abspath('..')\n",
    "if project_root not in sys.path:\n",
    "    sys.path.append(project_root)\n",
    " \n",
    "%load_ext autoreload\n",
    "%autoreload 2"
   ]
  },
  {
   "cell_type": "code",
   "execution_count": 3,
   "metadata": {},
   "outputs": [],
   "source": [
    "import pandas as pd\n",
    "import numpy as np\n",
    "\n",
    "import matplotlib.pyplot as plt\n",
    "import seaborn as sns\n",
    "\n",
    "sns.set_theme(palette='pastel')\n",
    "plt.rcParams['figure.figsize'] = (12, 6)\n",
    "\n",
    "CODIGO_HOSPITAL = 112102"
   ]
  },
  {
   "cell_type": "markdown",
   "metadata": {},
   "source": [
    "En este cuadernillo se quieren identificar los diagósticos más relevantes productivamente y nacionlamente del HLCM."
   ]
  },
  {
   "cell_type": "code",
   "execution_count": 46,
   "metadata": {},
   "outputs": [],
   "source": [
    "# Lee el desglose de ranking nacional por diagnostico\n",
    "df = pd.read_csv(\"../data/interim/ranking_nacional_egresos.csv\", encoding=\"latin-1\", sep=\";\")\n",
    "df[\"Codigo - Diagnostico\"] = df[\"DIAG1\"] + \" - \" + df[\"Descripción\"]"
   ]
  },
  {
   "cell_type": "code",
   "execution_count": 47,
   "metadata": {},
   "outputs": [],
   "source": [
    "# Obtiene solamente los datos del HLCM\n",
    "df_hlcm = df.query(\"ESTABLECIMIENTO_SALUD == @CODIGO_HOSPITAL\")"
   ]
  },
  {
   "cell_type": "markdown",
   "metadata": {},
   "source": [
    "## 1. Diagnósticos más relevantes del Hospital de Niños Luis Calvo Mackenna\n",
    "\n",
    "En este apartado se quieren responder las siguientes preguntas:\n",
    "\n",
    "1. ¿Cuáles son los **diagnósticos más relevantes productivamente** en el Hospital de Niños Luis Calvo Mackenna?\n",
    "2. ¿En qué diagnósticos el HLCM tiene una mayor cantidad de Egresos que cualquier otro establecimiento\n",
    "de salud Nacional? En otras palabras, ¿En qué diagnósticos el **HLCM tiene un Ranking 1 Nacional**?\n",
    "\n",
    "Estas preguntas se quieren responder tanto para diagnósticos ambulatorios (n_int_q = 0) y \n",
    "quirúrgicos (n_int_q > 0)."
   ]
  },
  {
   "cell_type": "code",
   "execution_count": 48,
   "metadata": {},
   "outputs": [],
   "source": [
    "DIAGS_MAS_RELEVANTES_QUIRURGICOS = sorted(\n",
    "    df_hlcm.query(\"ranking_nacionales_n_egresos == 1 and n_int_q > 0 and ANO_EGRESO > 2011\")\n",
    "    .sort_values([\"ANO_EGRESO\", \"n_egresos\", \"n_int_q\"], ascending=False)\n",
    "    .groupby(\"ANO_EGRESO\")\n",
    "    .head(20)[\"Codigo - Diagnostico\"]\n",
    "    .unique()\n",
    ")"
   ]
  },
  {
   "cell_type": "code",
   "execution_count": 50,
   "metadata": {},
   "outputs": [
    {
     "name": "stdout",
     "output_type": "stream",
     "text": [
      "Hay 79 diagnosticos quirurgicos altamente relevantes para el pais\n"
     ]
    }
   ],
   "source": [
    "print(f\"Hay {len(DIAGS_MAS_RELEVANTES_QUIRURGICOS)} diagnosticos quirurgicos altamente relevantes para el pais\")"
   ]
  }
 ],
 "metadata": {
  "kernelspec": {
   "display_name": "egresos-hlcm",
   "language": "python",
   "name": "python3"
  },
  "language_info": {
   "codemirror_mode": {
    "name": "ipython",
    "version": 3
   },
   "file_extension": ".py",
   "mimetype": "text/x-python",
   "name": "python",
   "nbconvert_exporter": "python",
   "pygments_lexer": "ipython3",
   "version": "3.12.4"
  }
 },
 "nbformat": 4,
 "nbformat_minor": 2
}
